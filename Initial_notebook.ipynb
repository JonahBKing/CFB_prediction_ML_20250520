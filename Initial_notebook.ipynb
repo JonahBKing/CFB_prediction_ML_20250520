{
 "cells": [
  {
   "cell_type": "markdown",
   "id": "4877feb2",
   "metadata": {},
   "source": [
    "# Jonah's college football prediction machine"
   ]
  },
  {
   "cell_type": "markdown",
   "id": "53646164",
   "metadata": {},
   "source": [
    "# Data collection"
   ]
  },
  {
   "cell_type": "code",
   "execution_count": 1,
   "id": "03f01cab",
   "metadata": {},
   "outputs": [
    {
     "name": "stdout",
     "output_type": "stream",
     "text": [
      "Time to learn\n"
     ]
    }
   ],
   "source": [
    "print('Time to learn')"
   ]
  },
  {
   "cell_type": "markdown",
   "id": "58feaae4",
   "metadata": {},
   "source": [
    "# Data cleaning & wrangling"
   ]
  }
 ],
 "metadata": {
  "kernelspec": {
   "display_name": ".venv",
   "language": "python",
   "name": "python3"
  },
  "language_info": {
   "codemirror_mode": {
    "name": "ipython",
    "version": 3
   },
   "file_extension": ".py",
   "mimetype": "text/x-python",
   "name": "python",
   "nbconvert_exporter": "python",
   "pygments_lexer": "ipython3",
   "version": "3.13.3"
  }
 },
 "nbformat": 4,
 "nbformat_minor": 5
}
